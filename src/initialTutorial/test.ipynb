{
 "cells": [
  {
   "cell_type": "code",
   "execution_count": null,
   "metadata": {},
   "outputs": [],
   "source": [
    "# Importing libraries\n",
    "import os\n",
    "import numpy as np\n",
    "import pandas as pd\n",
    "from scipy.stats import mode\n",
    "import matplotlib.pyplot as plt\n",
    "import seaborn as sns\n",
    "from sklearn.preprocessing import label_binarize\n",
    "from sklearn.model_selection import train_test_split, cross_val_score\n",
    "from sklearn.svm import SVC\n",
    "from sklearn.naive_bayes import GaussianNB\n",
    "from sklearn.linear_model import LogisticRegression\n",
    "from sklearn.ensemble import RandomForestClassifier\n",
    "from sklearn.metrics import accuracy_score, confusion_matrix, accuracy_score, precision_score, recall_score, f1_score, roc_auc_score, roc_curve,  auc\n",
    "from sklearn.calibration import LabelEncoder\n",
    "from itertools import cycle\n",
    "\n",
    "#%matplotlib inline"
   ]
  },
  {
   "cell_type": "code",
   "execution_count": null,
   "metadata": {},
   "outputs": [],
   "source": [
    "# Reading the train.csv by removing the\n",
    "# last column since it's an empty column\n",
    "\n",
    "\n",
    "DATA_PATH = os.path.join(\"..\", \"..\", \"data\", \"Training.csv\")\n",
    "data = pd.read_csv(DATA_PATH).dropna(axis = 1)\n",
    "\n",
    "# Checking whether the dataset is balanced or not\n",
    "disease_counts = data[\"prognosis\"].value_counts()\n",
    "temp_df = pd.DataFrame({\n",
    "\t\"Disease\": disease_counts.index,\n",
    "\t\"Counts\": disease_counts.values\n",
    "})"
   ]
  },
  {
   "cell_type": "code",
   "execution_count": null,
   "metadata": {},
   "outputs": [],
   "source": [
    "plt.figure(figsize = (18,8))\n",
    "sns.barplot(x = \"Disease\", y = \"Counts\", data = temp_df)\n",
    "plt.xticks(rotation=90)\n",
    "plt.show()"
   ]
  },
  {
   "cell_type": "code",
   "execution_count": null,
   "metadata": {},
   "outputs": [],
   "source": [
    "# Encoding the target value into numerical\n",
    "# value using LabelEncoder\n",
    "\n",
    "encoder = LabelEncoder()\n",
    "data[\"prognosis\"] = encoder.fit_transform(data[\"prognosis\"])\n",
    "\n",
    "X = data.iloc[:,:-1]\n",
    "y = data.iloc[:, -1]\n",
    "X_train, X_test, y_train, y_test = train_test_split(X, y, test_size=0.2, random_state=24, stratify=y)\n",
    "print(f\"Train: {X_train.shape}, {y_train.shape}\")\n",
    "print(f\"Test: {X_test.shape}, {y_test.shape}\")"
   ]
  },
  {
   "cell_type": "code",
   "execution_count": null,
   "metadata": {},
   "outputs": [],
   "source": [
    "# Calculate means,nd staard deviations, and ranges for each variable\n",
    "variable_stats = X_train.describe()\n",
    "\n",
    "print(\"Variable Statistics:\")\n",
    "print(variable_stats)"
   ]
  },
  {
   "cell_type": "code",
   "execution_count": null,
   "metadata": {},
   "outputs": [],
   "source": [
    "# Defining scoring metric for k-fold cross validation\n",
    "def cv_scoring(estimator, X, y):\n",
    "\treturn accuracy_score(y, estimator.predict(X))"
   ]
  },
  {
   "cell_type": "code",
   "execution_count": null,
   "metadata": {},
   "outputs": [],
   "source": [
    "# Initializing Models\n",
    "models = {\n",
    "\t\"SVC\":SVC(),\n",
    "\t\"Gaussian NB\":GaussianNB(),\n",
    "\t\"Random Forest\":RandomForestClassifier(random_state=18),\n",
    "\t\"Logistic Regression\":LogisticRegression()\n",
    "}"
   ]
  },
  {
   "cell_type": "code",
   "execution_count": null,
   "metadata": {},
   "outputs": [],
   "source": [
    "# Producing cross validation score for the models\n",
    "for model_name in models:\n",
    "\tmodel = models[model_name]\n",
    "\tscores = cross_val_score(model, X, y, cv = 10,\n",
    "\t\t\t\t\t\t\tn_jobs = -1,\n",
    "\t\t\t\t\t\t\tscoring = cv_scoring)\n",
    "\tprint(\"==\"*30)\n",
    "\tprint(model_name)\n",
    "\tprint(f\"Scores: {scores}\")\n",
    "\tprint(f\"Mean Score: {np.mean(scores)}\")"
   ]
  },
  {
   "cell_type": "code",
   "execution_count": null,
   "metadata": {},
   "outputs": [],
   "source": [
    "# Training and testing SVM Classifier\n",
    "svm_model = SVC()\n",
    "svm_model.fit(X_train, y_train)\n",
    "preds = svm_model.predict(X_test)"
   ]
  },
  {
   "cell_type": "code",
   "execution_count": null,
   "metadata": {},
   "outputs": [],
   "source": [
    "print(f\"Accuracy on train data by SVM Classifier\\\n",
    ": {accuracy_score(y_train, svm_model.predict(X_train))*100}\")"
   ]
  },
  {
   "cell_type": "code",
   "execution_count": null,
   "metadata": {},
   "outputs": [],
   "source": [
    "print(f\"Accuracy on test data by SVM Classifier\\\n",
    ": {accuracy_score(y_test, preds)*100}\")\n",
    "cf_matrix = confusion_matrix(y_test, preds)\n",
    "plt.figure(figsize=(12,8))\n",
    "sns.heatmap(cf_matrix, annot=True)\n",
    "plt.title(\"Confusion Matrix for SVM Classifier on Test Data\")\n",
    "plt.show()"
   ]
  },
  {
   "cell_type": "code",
   "execution_count": null,
   "metadata": {},
   "outputs": [],
   "source": [
    "# Training and testing Naive Bayes Classifier\n",
    "nb_model = GaussianNB()\n",
    "nb_model.fit(X_train, y_train)\n",
    "preds = nb_model.predict(X_test)\n",
    "print(f\"Accuracy on train data by Naive Bayes Classifier\\\n",
    ": {accuracy_score(y_train, nb_model.predict(X_train))*100}\")"
   ]
  },
  {
   "cell_type": "code",
   "execution_count": null,
   "metadata": {},
   "outputs": [],
   "source": [
    "print(f\"Accuracy on test data by Naive Bayes Classifier\\\n",
    ": {accuracy_score(y_test, preds)*100}\")\n",
    "cf_matrix = confusion_matrix(y_test, preds)\n",
    "plt.figure(figsize=(12,8))\n",
    "sns.heatmap(cf_matrix, annot=True)\n",
    "plt.title(\"Confusion Matrix for Naive Bayes Classifier on Test Data\")\n",
    "plt.show()"
   ]
  },
  {
   "cell_type": "code",
   "execution_count": null,
   "metadata": {},
   "outputs": [],
   "source": [
    "# Training and testing Random Forest Classifier\n",
    "rf_model = RandomForestClassifier(random_state=18)\n",
    "rf_model.fit(X_train, y_train)\n",
    "preds = rf_model.predict(X_test)\n",
    "print(f\"Accuracy on train data by Random Forest Classifier\\\n",
    ": {accuracy_score(y_train, rf_model.predict(X_train))*100}\")"
   ]
  },
  {
   "cell_type": "code",
   "execution_count": null,
   "metadata": {},
   "outputs": [],
   "source": [
    "print(f\"Accuracy on test data by Random Forest Classifier\\\n",
    ": {accuracy_score(y_test, preds)*100}\")"
   ]
  },
  {
   "cell_type": "code",
   "execution_count": null,
   "metadata": {},
   "outputs": [],
   "source": [
    "cf_matrix = confusion_matrix(y_test, preds)\n",
    "plt.figure(figsize=(12,8))\n",
    "sns.heatmap(cf_matrix, annot=True)\n",
    "plt.title(\"Confusion Matrix for Random Forest Classifier on Test Data\")\n",
    "plt.show()"
   ]
  },
  {
   "cell_type": "code",
   "execution_count": null,
   "metadata": {},
   "outputs": [],
   "source": [
    "clf = LogisticRegression()\n",
    "clf.fit(X_train, y_train)\n",
    "preds = clf.predict(X_test)\n",
    "print(f\"Accuracy on train data by Logistic Regression Model: {accuracy_score(y_train, clf.predict(X_train))*100}\")\n",
    "print(f\"Accuracy on test data by Logistic Regression Model: {accuracy_score(y_test, preds)*100}\")\n",
    "\n",
    "cf_matrix = confusion_matrix(y_test, preds)\n",
    "plt.figure(figsize=(12,8))\n",
    "sns.heatmap(cf_matrix, annot=True)\n",
    "plt.title(\"Confusion Matrix for Logistic Regression Model on Test Data\")\n",
    "plt.show()\n"
   ]
  },
  {
   "cell_type": "code",
   "execution_count": null,
   "metadata": {},
   "outputs": [],
   "source": [
    "# Make predictions\n",
    "y_pred = clf.predict(X_test)\n",
    "\n",
    "# Compute accuracy\n",
    "accuracy = accuracy_score(y_test, y_pred)\n",
    "print('Accuracy: %.2f%%' % (accuracy * 100.0))"
   ]
  },
  {
   "cell_type": "code",
   "execution_count": null,
   "metadata": {},
   "outputs": [],
   "source": [
    "# Compute precision, recall, and F1-score\n",
    "precision = precision_score(y_test, y_pred, average='macro')\n",
    "recall = recall_score(y_test, y_pred, average='macro')\n",
    "f1 = f1_score(y_test, y_pred, average='macro')\n",
    "print('Precision: %.2f%%, Recall: %.2f%%, F1-score: %.2f%%' % (precision * 100.0, recall * 100.0, f1 * 100.0))"
   ]
  },
  {
   "cell_type": "code",
   "execution_count": null,
   "metadata": {},
   "outputs": [],
   "source": [
    "print(\"y_test shape:\", y_test.shape)\n",
    "print(\"Unique values in y_test:\", np.unique(y_test))\n"
   ]
  },
  {
   "cell_type": "code",
   "execution_count": null,
   "metadata": {},
   "outputs": [],
   "source": [
    "clf = LogisticRegression()\n",
    "clf.fit(X_train, y_train)\n",
    "y_pred_prob = clf.predict_proba(X_test)"
   ]
  },
  {
   "cell_type": "code",
   "execution_count": null,
   "metadata": {},
   "outputs": [],
   "source": [
    "# Binarize the labels\n",
    "num_classes = y_pred_prob.shape[1]\n",
    "binary_y_test = label_binarize(y_test, classes=range(num_classes))"
   ]
  },
  {
   "cell_type": "code",
   "execution_count": null,
   "metadata": {},
   "outputs": [],
   "source": [
    "# Calculate the area under the ROC curve of the model\n",
    "auc = roc_auc_score(binary_y_test, y_pred_prob, multi_class='ovr')\n",
    "print(\"AUC:\", auc)"
   ]
  },
  {
   "cell_type": "code",
   "execution_count": null,
   "metadata": {},
   "outputs": [],
   "source": [
    "num_classes = y_pred_prob.shape[1]"
   ]
  },
  {
   "cell_type": "code",
   "execution_count": null,
   "metadata": {},
   "outputs": [],
   "source": [
    "# Calculate the area under the ROC curve of the model for each class\n",
    "auc_scores = dict()\n",
    "for i in range(num_classes):\n",
    "    fpr, tpr, _ = roc_curve(binary_y_test[:, i], y_pred_prob[:, i])\n",
    "    auc_scores[i] = np.trapz(tpr, fpr)\n"
   ]
  },
  {
   "cell_type": "code",
   "execution_count": null,
   "metadata": {},
   "outputs": [],
   "source": [
    "# Compute the ROC curve for each class\n",
    "fpr = dict()\n",
    "tpr = dict()\n",
    "roc_auc = dict()\n",
    "for i in range(num_classes):\n",
    "    fpr[i], tpr[i], _ = roc_curve(binary_y_test[:, i], y_pred_prob[:, i])\n",
    "    roc_auc[i] = auc_scores[i]\n",
    "\n",
    "# Plot the ROC curve\n",
    "plt.figure(figsize=(8, 6))\n",
    "colors = cycle(['blue', 'red', 'green', 'orange'])  # Adjust the colors as needed\n",
    "for i, color in zip(range(num_classes), colors):\n",
    "    plt.plot(fpr[i], tpr[i], color=color, label='Class %d (AUC = %0.2f)' % (i, roc_auc[i]))\n",
    "\n",
    "plt.plot([0, 1], [0, 1], 'k--')\n",
    "plt.xlim([0.0, 1.0])\n",
    "plt.ylim([0.0, 1.05])\n",
    "plt.xlabel('False Positive Rate')\n",
    "plt.ylabel('True Positive Rate')\n",
    "plt.title('Receiver Operating Characteristic')\n",
    "plt.legend(loc=\"lower right\")\n",
    "plt.show()"
   ]
  },
  {
   "cell_type": "code",
   "execution_count": null,
   "metadata": {},
   "outputs": [],
   "source": [
    "# Training the models on whole data\n",
    "final_svm_model = SVC()\n",
    "final_nb_model = GaussianNB()\n",
    "final_rf_model = RandomForestClassifier(random_state=18)\n",
    "final_lg_model = LogisticRegression()\n",
    "final_svm_model.fit(X, y)\n",
    "final_nb_model.fit(X, y)\n",
    "final_rf_model.fit(X, y)\n",
    "final_lg_model.fit(X, y)"
   ]
  },
  {
   "cell_type": "code",
   "execution_count": null,
   "metadata": {},
   "outputs": [],
   "source": [
    "# Reading the test data\n",
    "test_data = pd.read_csv(os.path.join(\"..\", \"..\", \"data\", \"Testing.csv\")).dropna(axis=1)\n",
    "\n",
    "test_X = test_data.iloc[:, :-1]\n",
    "test_Y = encoder.transform(test_data.iloc[:, -1])"
   ]
  },
  {
   "cell_type": "code",
   "execution_count": null,
   "metadata": {},
   "outputs": [],
   "source": [
    "# Making prediction by take mode of predictions\n",
    "# made by all the classifiers\n",
    "svm_preds = final_svm_model.predict(test_X)\n",
    "nb_preds = final_nb_model.predict(test_X)\n",
    "rf_preds = final_rf_model.predict(test_X)\n",
    "lg_preds = final_lg_model.predict(test_X)\n",
    "\n",
    "final_preds = [mode([i,j,k,l])[0][0] for i,j,\n",
    "\t\t\tk,l in zip(svm_preds, nb_preds, rf_preds, lg_preds)]\n",
    "\n",
    "print(f\"Accuracy on Test dataset by the combined model\\\n",
    ": {accuracy_score(test_Y, final_preds)*100}\")"
   ]
  },
  {
   "cell_type": "code",
   "execution_count": null,
   "metadata": {},
   "outputs": [],
   "source": [
    "cf_matrix = confusion_matrix(test_Y, final_preds)\n",
    "plt.figure(figsize=(12,8))\n",
    "\n",
    "sns.heatmap(cf_matrix, annot = True)\n",
    "plt.title(\"Confusion Matrix for Combined Model on Test Dataset\")\n",
    "plt.show()"
   ]
  },
  {
   "cell_type": "code",
   "execution_count": null,
   "metadata": {},
   "outputs": [],
   "source": [
    "symptoms = X.columns.values\n",
    "\n",
    "# Creating a symptom index dictionary to encode the\n",
    "# input symptoms into numerical form\n",
    "symptom_index = {}\n",
    "for index, value in enumerate(symptoms):\n",
    "\tsymptom = \" \".join([i.capitalize() for i in value.split(\"_\")])\n",
    "\tsymptom_index[symptom] = index\n",
    "\n",
    "data_dict = {\n",
    "\t\"symptom_index\":symptom_index,\n",
    "\t\"predictions_classes\":encoder.classes_\n",
    "}"
   ]
  },
  {
   "cell_type": "code",
   "execution_count": null,
   "metadata": {},
   "outputs": [],
   "source": [
    "# Defining the Function\n",
    "# Input: string containing symptoms separated by commas\n",
    "# Output: Generated predictions by models\n",
    "def predictDisease(symptoms):\n",
    "\tsymptoms = symptoms.split(\",\")\n",
    "\t\n",
    "\t# creating input data for the models\n",
    "\tinput_data = [0] * len(data_dict[\"symptom_index\"])\n",
    "\tfor symptom in symptoms:\n",
    "\t\tindex = data_dict[\"symptom_index\"][symptom]\n",
    "\t\tinput_data[index] = 1\n",
    "\t\t\n",
    "\t# reshaping the input data and converting it\n",
    "\t# into suitable format for model predictions\n",
    "\tinput_data = np.array(input_data).reshape(1,-1)\n",
    "\t\n",
    "\t# generating individual outputs\n",
    "\trf_prediction = data_dict[\"predictions_classes\"][final_rf_model.predict(input_data)[0]]\n",
    "\tnb_prediction = data_dict[\"predictions_classes\"][final_nb_model.predict(input_data)[0]]\n",
    "\tsvm_prediction = data_dict[\"predictions_classes\"][final_svm_model.predict(input_data)[0]]\n",
    "\tlg_prediction = data_dict[\"predictions_classes\"][final_lg_model.predict(input_data)[0]]\n",
    "\t\n",
    "\t# making final prediction by taking mode of all predictions\n",
    "\tfinal_prediction = mode([rf_prediction, nb_prediction, svm_prediction])[0][0]\n",
    "\tpredictions = {\n",
    "\t\t\"rf_model_prediction\": rf_prediction,\n",
    "\t\t\"naive_bayes_prediction\": nb_prediction,\n",
    "\t\t\"svm_model_prediction\": nb_prediction,\n",
    "\t\t\"logistic_regression_model_prediction\": lg_prediction,\n",
    "\t\t\"final_prediction\":final_prediction\n",
    "\t}\n",
    "\treturn predictions"
   ]
  },
  {
   "cell_type": "code",
   "execution_count": null,
   "metadata": {},
   "outputs": [],
   "source": [
    "# Testing the function\n",
    "print(predictDisease(\"Itching,Skin Rash,Nodal Skin Eruptions\"))"
   ]
  }
 ],
 "metadata": {
  "kernelspec": {
   "display_name": "Python 3",
   "language": "python",
   "name": "python3"
  },
  "language_info": {
   "codemirror_mode": {
    "name": "ipython",
    "version": 3
   },
   "file_extension": ".py",
   "mimetype": "text/x-python",
   "name": "python",
   "nbconvert_exporter": "python",
   "pygments_lexer": "ipython3",
   "version": "3.10.11"
  },
  "orig_nbformat": 4
 },
 "nbformat": 4,
 "nbformat_minor": 2
}
